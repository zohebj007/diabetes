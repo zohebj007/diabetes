{
 "cells": [
  {
   "cell_type": "code",
   "execution_count": null,
   "metadata": {},
   "outputs": [],
   "source": [
    "#############  deploy model from the model registry #######################\n",
    "\n",
    "model_package_name = 'diabates-main-structured'\n",
    "model_version = 4  # Your model version\n",
    "#model_package_arn = f\"arn:aws:sagemaker:{region}:590183717898:model-package/{model_package_name}/{model_version}\"\n",
    "\n",
    "import boto3\n",
    "\n",
    "# Initialize SageMaker client\n",
    "sagemaker_client = boto3.client('sagemaker')\n",
    "\n",
    "# Define your model package ARN (from the Model Registry)\n",
    "model_package_arn = f\"arn:aws:sagemaker:{region}:590183717898:model-package/{model_package_name}/{model_version}\"\n",
    "\n",
    "# Create the model from the registered model in the model registry using Model Package ARN\n",
    "model_name = 'zoheb-test-inference-1'  # Give your model a unique name\n",
    "create_model_response = sagemaker_client.create_model(\n",
    "    ModelName=model_name,\n",
    "    ExecutionRoleArn=sagemaker_role,\n",
    "    Containers=[  # Use Containers when specifying a model package ARN\n",
    "        {\n",
    "            'ModelPackageName': model_package_arn\n",
    "        }\n",
    "    ]\n",
    ")\n",
    "\n",
    "print(\"Model creation response:\", create_model_response)\n",
    "\n",
    "# Create the endpoint configuration\n",
    "endpoint_config_name = 'diabates-endpoint-config-3'  # Unique name for the endpoint config\n",
    "endpoint_config_response = sagemaker_client.create_endpoint_config(\n",
    "    EndpointConfigName=endpoint_config_name,\n",
    "    ProductionVariants=[\n",
    "        {\n",
    "            'VariantName': 'AllTraffic',\n",
    "            'ModelName': model_name,\n",
    "            'InitialVariantWeight': 1,\n",
    "            'InstanceType': 'ml.m5.large',  # Choose your instance type\n",
    "            'InitialInstanceCount': 1\n",
    "        }\n",
    "    ]\n",
    ")\n",
    "\n",
    "print(\"Endpoint configuration created:\", endpoint_config_response['EndpointConfigArn'])\n",
    "\n",
    "# Create the endpoint\n",
    "endpoint_response = sagemaker_client.create_endpoint(\n",
    "    EndpointName=model_name,  # Endpoint name should match the model name\n",
    "    EndpointConfigName=endpoint_config_name  # Use the config you just created\n",
    ")\n",
    "\n",
    "print(\"Endpoint creation initiated:\", endpoint_response['EndpointArn'])\n"
   ]
  }
 ],
 "metadata": {
  "kernelspec": {
   "display_name": "pyzo",
   "language": "python",
   "name": "python3"
  },
  "language_info": {
   "name": "python",
   "version": "3.12.2"
  }
 },
 "nbformat": 4,
 "nbformat_minor": 2
}
